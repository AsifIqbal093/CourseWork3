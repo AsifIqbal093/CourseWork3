{
 "cells": [
  {
   "cell_type": "code",
   "execution_count": 1,
   "id": "416d69c3",
   "metadata": {},
   "outputs": [],
   "source": [
    "\n",
    "def WesternZodiac(birth_month, birth_day):\n",
    "    #This function takes in a date and returns the zodiac\n",
    "    #for zodiac signs https://www.w3resource.com/python-exercises/python-conditional-exercise-38.php\n",
    "    #if user birth month is 12 and birth day is less than 22 then it will display sagittarius else it will display capricon.\n",
    "    if birth_month == 12: \n",
    "        if (birth_day < 22):\n",
    "            return 'Sagittarius' \n",
    "        else: \n",
    "            return 'capricorn'\n",
    "        #if bm = 1 and bd < 20 then return Capricon else return aquarius.\n",
    "    elif birth_month == 1:\n",
    "        if (birth_day < 20):\n",
    "            return 'Capricorn' \n",
    "        else:\n",
    "            return 'aquarius'\n",
    "        #if bm = 2 and bd < 19 then return aquarius else return pisces.\n",
    "    elif birth_month == 2:\n",
    "        if (birth_day < 19):\n",
    "            return'Aquarius'  \n",
    "        else:\n",
    "            return 'pisces'\n",
    "        #if user birth month is 3 and birth day is less than 21 then it will display pisces else it will display aries.\n",
    "    elif birth_month == 3:\n",
    "        if (birth_day < 21):\n",
    "            return 'Pisces'  \n",
    "        else:\n",
    "            return 'aries'\n",
    "        #if bm= 4 and bd < 20 then return aries else return taurus.\n",
    "    elif birth_month == 4:\n",
    "        if (birth_day < 20):\n",
    "            return 'Aries'  \n",
    "        else:\n",
    "            return 'taurus'\n",
    "        #if bm = 5 and bd < 21 then return taurus else returns gemini.\n",
    "    elif birth_month == 5:\n",
    "        if (birth_day < 21):\n",
    "            return 'Taurus'  \n",
    "        else:\n",
    "            return 'gemini'\n",
    "        #if bm = 6 and bd < 21 then return Gemini else return cancer.\n",
    "    elif birth_month == 6:\n",
    "        if (birth_day < 21):\n",
    "            return 'Gemini'  \n",
    "        else:\n",
    "            return 'cancer'\n",
    "        #if bm = 7 and bd < 23 then return Cancer else return leo.\n",
    "    elif birth_month == 7:\n",
    "        if (birth_day < 23):\n",
    "            return 'Cancer'  \n",
    "        else:\n",
    "            return 'leo'\n",
    "        #if bm = 8 and bd < 23 then return Leo else return virgo.\n",
    "    elif birth_month == 8:\n",
    "        if (birth_day < 23):\n",
    "            return 'Leo'  \n",
    "        else:\n",
    "            return 'virgo'\n",
    "        #if bm = 9 and bd < 23 then return Virgo else return libra.\n",
    "    elif birth_month == 9:\n",
    "        if (birth_day < 23):\n",
    "            return 'Virgo'  \n",
    "        else:\n",
    "            return 'libra'\n",
    "        #if bm = 10 and bd < 23 then return libra else return scorpio.\n",
    "    elif birth_month == 10:\n",
    "        if (birth_day < 23):\n",
    "            return 'Libra'  \n",
    "        else:\n",
    "            return 'scorpio'\n",
    "        #if bm = 11 and bd < 22 then return scorpia else return sagittarius.\n",
    "    elif birth_month == 11:\n",
    "        if (birth_day < 22):\n",
    "            return 'scorpio'  \n",
    "        else:\n",
    "            return 'sagittarius'\n",
    "        \n",
    "    "
   ]
  },
  {
   "cell_type": "code",
   "execution_count": 2,
   "id": "3fa7d4d8",
   "metadata": {},
   "outputs": [
    {
     "name": "stdout",
     "output_type": "stream",
     "text": [
      "Taurus\n"
     ]
    }
   ],
   "source": [
    "print(WesternZodiac(5,18))"
   ]
  },
  {
   "cell_type": "code",
   "execution_count": 3,
   "id": "b5d0aad4",
   "metadata": {},
   "outputs": [],
   "source": [
    "def ChineseZodiac(birth_year): \n",
    "    \"\"\"A function is created to display chinese zodiac according to birth year and we will call it in main body\"\"\"\n",
    "\n",
    "    if (birth_year - 2000) % 12 == 0:\n",
    "        return 'Dragon'\n",
    "    elif (birth_year - 2000) % 12 == 1:\n",
    "        return 'Snake'\n",
    "    elif (birth_year - 2000) % 12 == 2:\n",
    "        return 'Horse'\n",
    "    elif (birth_year - 2000) % 12 == 3:\n",
    "        return 'sheep'\n",
    "    elif (birth_year - 2000) % 12 == 4:\n",
    "        return 'Monkey'\n",
    "    elif (birth_year - 2000) % 12 == 5:\n",
    "        return 'Rooster'\n",
    "    elif (birth_year - 2000) % 12 == 6:\n",
    "        return 'Dog'\n",
    "    elif (birth_year - 2000) % 12 == 7:\n",
    "        return 'Pig'\n",
    "    elif (birth_year - 2000) % 12 == 8:\n",
    "        return 'Rat'\n",
    "    elif (birth_year - 2000) % 12 == 9:\n",
    "        return 'Ox'\n",
    "    elif (birth_year - 2000) % 12 == 10:\n",
    "        return 'Tiger'\n",
    "    else:\n",
    "        return 'Hare'\n",
    "    "
   ]
  },
  {
   "cell_type": "code",
   "execution_count": 4,
   "id": "93dccf3d",
   "metadata": {},
   "outputs": [
    {
     "data": {
      "text/plain": [
       "'Rooster'"
      ]
     },
     "execution_count": 4,
     "metadata": {},
     "output_type": "execute_result"
    }
   ],
   "source": [
    "ChineseZodiac(1993)\n"
   ]
  },
  {
   "cell_type": "code",
   "execution_count": 8,
   "id": "62c03084",
   "metadata": {},
   "outputs": [],
   "source": [
    "def AgeCalculation(x):\n",
    "    today_date = datetime.today().date()\n",
    "    age = today_date.year - x.year - ((today_date.month, today_date.day) < (x.month, x.day))\n",
    "    return age"
   ]
  },
  {
   "cell_type": "code",
   "execution_count": 11,
   "id": "5808779a",
   "metadata": {},
   "outputs": [],
   "source": [
    "#Function for outputfile file\n",
    "def OutputFile(data):\n",
    "    with open('result.txt', 'w') as file:\n",
    "        data.to_csv(file, header=True, index=None, sep='\\t')"
   ]
  },
  {
   "cell_type": "code",
   "execution_count": 12,
   "id": "47762245",
   "metadata": {},
   "outputs": [
    {
     "name": "stdout",
     "output_type": "stream",
     "text": [
      "    UID               Name         Dob  Age Western Zodiac Chinese Zodiac\n",
      "0    17      David Beckham  1975-05-02   46         Taurus          Horse\n",
      "1     7  Cristiano Ronaldo  1985-02-05   37       Aquarius        Rooster\n",
      "2    32       Wayne Rooney  1985-10-24   36        scorpio         Monkey\n",
      "3    11      Radia Perlman  1951-12-18   70    Sagittarius          Horse\n",
      "4    18       Barack Obama  1961-08-04   60            Leo         Monkey\n",
      "5    10       Lionel Messi  1987-06-24   34         cancer          Horse\n",
      "6     1        Alan Turing  1912-06-23  109         cancer        Rooster\n",
      "7    80       Ada Lovelace  1815-12-10  206    Sagittarius            Dog\n",
      "8    71         Steve Jobs  1955-02-24   67         pisces           Hare\n",
      "9    33    Mark Zuckerberg  1984-05-14   37         Taurus        Rooster\n",
      "10   19         Bill Gates  1955-10-28   66        scorpio          Tiger\n",
      "11   27       Minnie Mouse  1928-11-18   93        scorpio          Snake\n",
      "12   99       Grace Hopper  1906-12-09  115    Sagittarius           Hare\n"
     ]
    }
   ],
   "source": [
    "#importing pandas as pd\n",
    "import pandas as pd\n",
    "from datetime import datetime\n",
    "\n",
    "#Openning File Data.txt to read data from file\n",
    "file = open(\"Data.txt\", \"r\").readlines()\n",
    "\n",
    "# declaring all the variables\n",
    "uid = []\n",
    "dob = []\n",
    "name = []\n",
    "\n",
    "# reading lines from the txt file\n",
    "for line in file[1:]:\n",
    "    data = line.strip('\\n').split('\\t')\n",
    "    # inserting id into the list\n",
    "    uid.append(int(data[0]))\n",
    "\n",
    "    # inserting name data into the list\n",
    "    name.append(data[1])\n",
    "\n",
    "    # Converting date to date format as it is required to calculate age\n",
    "    dob.append(datetime.strptime(data[2], '%Y-%m-%d').date())\n",
    "\n",
    "#Declaring age, Asrto_sign list\n",
    "age = []\n",
    "asrto_sign = []\n",
    "\n",
    "#Looping through dob list\n",
    "for x in dob:\n",
    "    age.append(AgeCalculation(x))\n",
    "    asrto_sign.append(WesternZodiac(x.month, x.day))\n",
    "\n",
    "#Declaring Chinese_sign list\n",
    "chinese_sign = []\n",
    "for ag in age:\n",
    "    chinese_sign.append(ChineseZodiac(ag))\n",
    "\n",
    "# Mergin all the list to a dictionary object\n",
    "data = pd.DataFrame({'UID': uid, 'Name': name, 'Dob': dob, 'Age': age,\n",
    "                     'Western Zodiac': asrto_sign, 'Chinese Zodiac': chinese_sign})\n",
    "\n",
    "print(data)\n",
    "\n",
    "#Calling output file function to write text\n",
    "OutputFile(data)"
   ]
  },
  {
   "cell_type": "code",
   "execution_count": null,
   "id": "d8df7e4b",
   "metadata": {},
   "outputs": [],
   "source": []
  },
  {
   "cell_type": "code",
   "execution_count": null,
   "id": "8ba7c4a6",
   "metadata": {},
   "outputs": [],
   "source": []
  }
 ],
 "metadata": {
  "kernelspec": {
   "display_name": "Python 3 (ipykernel)",
   "language": "python",
   "name": "python3"
  },
  "language_info": {
   "codemirror_mode": {
    "name": "ipython",
    "version": 3
   },
   "file_extension": ".py",
   "mimetype": "text/x-python",
   "name": "python",
   "nbconvert_exporter": "python",
   "pygments_lexer": "ipython3",
   "version": "3.9.0"
  }
 },
 "nbformat": 4,
 "nbformat_minor": 5
}
